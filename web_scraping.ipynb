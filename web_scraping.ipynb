{
 "cells": [
  {
   "cell_type": "markdown",
   "id": "d26bf866-ad53-4335-aca4-465f51c52a7a",
   "metadata": {},
   "source": [
    "# First Web Scraping Project"
   ]
  },
  {
   "cell_type": "markdown",
   "id": "de0d0375-82dc-48f8-9b8b-3e9c09e0f551",
   "metadata": {},
   "source": [
    "For this beginners web scraping project, we will be using http://books.toscrape.com. This is a mock book webshop in a rather simplified form made available for the purpose of scraping. It is ideal for people who are learning about web scraping and wanting to apply what they learn. For this project, we will be using `BeautifulSoup`. We start off by importing the necessary packages."
   ]
  },
  {
   "cell_type": "code",
   "execution_count": 1,
   "id": "6b4093b1-0c94-4785-81c6-cfbd21fb782f",
   "metadata": {},
   "outputs": [],
   "source": [
    "import numpy as np\n",
    "import pandas as pd\n",
    "import re\n",
    "import requests\n",
    "import time\n",
    "from bs4 import BeautifulSoup"
   ]
  },
  {
   "cell_type": "markdown",
   "id": "7fe29b44-f742-429b-9f9e-68d278270636",
   "metadata": {},
   "source": [
    "Since we are going to be scraping quite some pages, we create a function that returns the html script of the page."
   ]
  },
  {
   "cell_type": "code",
   "execution_count": 2,
   "id": "bc19f651-b0da-4c50-9907-2d91b9666c68",
   "metadata": {},
   "outputs": [],
   "source": [
    "def scraper(url):\n",
    "    response = requests.get(url)\n",
    "    return BeautifulSoup(response.text, 'html.parser')"
   ]
  },
  {
   "cell_type": "markdown",
   "id": "e454f1f5-8a41-4bc9-9fe0-0ef7813a9406",
   "metadata": {},
   "source": [
    "Let's begin by examining the home page. We will both be looking at the compiled page and the HTML script."
   ]
  },
  {
   "cell_type": "code",
   "execution_count": 3,
   "id": "ed455c35-8b02-4023-867e-fdf31d32e896",
   "metadata": {},
   "outputs": [],
   "source": [
    "url = 'http://books.toscrape.com'"
   ]
  },
  {
   "cell_type": "code",
   "execution_count": null,
   "id": "90d61827-d07b-42a4-bc46-2c7d8e8dbae3",
   "metadata": {
    "scrolled": true
   },
   "outputs": [],
   "source": [
    "soup = scraper(url)\n",
    "print(soup)"
   ]
  },
  {
   "cell_type": "markdown",
   "id": "060c51a9-c9e4-47d1-a53c-c3ab23c642a5",
   "metadata": {},
   "source": [
    "The home page shows all books uncategorized. We could run our scraping from this page, but since this is a learning project, we will be doing some extra and inefficient things as an exercise. We create a dataframe containing all categories shown in the menu."
   ]
  },
  {
   "cell_type": "code",
   "execution_count": null,
   "id": "5eed46be-1174-4dbe-b27f-eb07ddf9570d",
   "metadata": {
    "scrolled": true
   },
   "outputs": [],
   "source": [
    "all_a = soup.find_all('a')\n",
    "all_a"
   ]
  },
  {
   "cell_type": "markdown",
   "id": "da552be2-0f06-430d-a162-4fce000b811f",
   "metadata": {},
   "source": [
    "We see a bunch of URLs. We are only interested in the categories. We will have to filter out the links to the individual pages of the books and other pages linked like the home page."
   ]
  },
  {
   "cell_type": "code",
   "execution_count": 6,
   "id": "fd4840ad-7402-4925-af80-270a20ecf523",
   "metadata": {},
   "outputs": [],
   "source": [
    "text_to_select = 'catalogue/category/books/'\n",
    "cat_name = [text.string.strip() for text in all_a if text_to_select in text.get('href')]"
   ]
  },
  {
   "cell_type": "markdown",
   "id": "b02b0b16-a58a-4fb8-bfee-127df36342d1",
   "metadata": {},
   "source": [
    "We will also save the URLs of the category index pages. We assign a name code to every one of the categories since the names contain spaces and uppercases. We could use the URL, but they contain numbers and a combination of underscores and dashes. The name code may come in handy later on."
   ]
  },
  {
   "cell_type": "code",
   "execution_count": 7,
   "id": "a05758b9-316c-4c04-bb52-ef91f4201d16",
   "metadata": {},
   "outputs": [],
   "source": [
    "cat_urlcode = [text.get('href').split('/books/')[1].split('/')[0] for text in all_a if text_to_select in text.get('href')]\n",
    "cat_namecode = [name.split('_')[0].replace('-', '_') for name in cat_urlcode]"
   ]
  },
  {
   "cell_type": "markdown",
   "id": "40bb4674-d3b9-4b8b-8044-21f9038547cc",
   "metadata": {},
   "source": [
    "We can now combine the extracted information in a structured dataframe."
   ]
  },
  {
   "cell_type": "code",
   "execution_count": 8,
   "id": "3b345158-b436-4de2-b683-8426c02f4273",
   "metadata": {
    "scrolled": true
   },
   "outputs": [],
   "source": [
    "Categories = pd.DataFrame({\n",
    "    'Name': cat_name,\n",
    "    'Code': cat_namecode,\n",
    "    'URL': cat_urlcode\n",
    "})"
   ]
  },
  {
   "cell_type": "markdown",
   "id": "10adabb1-b055-41a0-bfc2-6739d6b0b137",
   "metadata": {},
   "source": [
    "Each category has a number of books. This number is displayed at the top of the category's index page. We have to figure out how to extract that number from the script. Let's see what the script looks like."
   ]
  },
  {
   "cell_type": "code",
   "execution_count": null,
   "id": "e5231312-7f4c-4018-a672-4f2598aab75a",
   "metadata": {
    "scrolled": true
   },
   "outputs": [],
   "source": [
    "url = f'http://books.toscrape.com/catalogue/category/books/{Categories.URL[0]}/index.html'\n",
    "scraper(url)"
   ]
  },
  {
   "cell_type": "markdown",
   "id": "c4eacec5-cf1c-4c98-a390-699e6c300222",
   "metadata": {},
   "source": [
    "The number is found in a `strong` tag."
   ]
  },
  {
   "cell_type": "code",
   "execution_count": 10,
   "id": "a2297544-f572-47e6-a12d-8ac4978a2f4e",
   "metadata": {},
   "outputs": [
    {
     "data": {
      "text/plain": [
       "[<strong>1000</strong>,\n",
       " <strong>1</strong>,\n",
       " <strong>20</strong>,\n",
       " <strong>Warning!</strong>]"
      ]
     },
     "execution_count": 10,
     "metadata": {},
     "output_type": "execute_result"
    }
   ],
   "source": [
    "soup.find_all('strong')"
   ]
  },
  {
   "cell_type": "markdown",
   "id": "452d466a-46ec-4f19-859a-677ee734649b",
   "metadata": {},
   "source": [
    "We need the second element of the list. We can now extract the category size in a for loop."
   ]
  },
  {
   "cell_type": "code",
   "execution_count": 11,
   "id": "0ca6b141-9cb1-447a-8ee1-df8905f0d334",
   "metadata": {},
   "outputs": [],
   "source": [
    "cat_size = []\n",
    "\n",
    "for i in range(Categories.shape[0]):\n",
    "    url = f'http://books.toscrape.com/catalogue/category/books/{Categories.URL[i]}/index.html'\n",
    "    cat_size.append(scraper(url).find_all('strong')[1].text)"
   ]
  },
  {
   "cell_type": "markdown",
   "id": "92cdeb0d-56dc-4612-bdc1-81ef3d945505",
   "metadata": {},
   "source": [
    "A new column is added to the dataframe `Categories` containing the category sizes. The column type is converted into `int64`. The number of pages is computed by dividing the number of books by 20 and rounding the result up. The number 20 comes from the fact that the pages show no more than 20 books."
   ]
  },
  {
   "cell_type": "code",
   "execution_count": 12,
   "id": "d3d77f02-220b-4133-93bc-3f62d96333d3",
   "metadata": {},
   "outputs": [],
   "source": [
    "Categories['Size'] = cat_size\n",
    "Categories['Size'] = Categories['Size'].astype('int64')"
   ]
  },
  {
   "cell_type": "code",
   "execution_count": 13,
   "id": "b25f2331-444a-486d-be40-36c30ad1d38a",
   "metadata": {},
   "outputs": [],
   "source": [
    "Categories['Pages'] = np.ceil(Categories['Size']/20).astype('int64')"
   ]
  },
  {
   "cell_type": "markdown",
   "id": "70e3f4d7-25ae-4e17-ab57-fb7fcc10c9dc",
   "metadata": {},
   "source": [
    "This is the finished dataframe `Categories` containing the information that we might need later on:"
   ]
  },
  {
   "cell_type": "code",
   "execution_count": 14,
   "id": "c9485fd8-69ce-49e2-9b53-01bcd48f7d0f",
   "metadata": {
    "scrolled": true
   },
   "outputs": [
    {
     "data": {
      "text/html": [
       "<div>\n",
       "<style scoped>\n",
       "    .dataframe tbody tr th:only-of-type {\n",
       "        vertical-align: middle;\n",
       "    }\n",
       "\n",
       "    .dataframe tbody tr th {\n",
       "        vertical-align: top;\n",
       "    }\n",
       "\n",
       "    .dataframe thead th {\n",
       "        text-align: right;\n",
       "    }\n",
       "</style>\n",
       "<table border=\"1\" class=\"dataframe\">\n",
       "  <thead>\n",
       "    <tr style=\"text-align: right;\">\n",
       "      <th></th>\n",
       "      <th>Name</th>\n",
       "      <th>Code</th>\n",
       "      <th>URL</th>\n",
       "      <th>Size</th>\n",
       "      <th>Pages</th>\n",
       "    </tr>\n",
       "  </thead>\n",
       "  <tbody>\n",
       "    <tr>\n",
       "      <th>0</th>\n",
       "      <td>Travel</td>\n",
       "      <td>travel</td>\n",
       "      <td>travel_2</td>\n",
       "      <td>11</td>\n",
       "      <td>1</td>\n",
       "    </tr>\n",
       "    <tr>\n",
       "      <th>1</th>\n",
       "      <td>Mystery</td>\n",
       "      <td>mystery</td>\n",
       "      <td>mystery_3</td>\n",
       "      <td>32</td>\n",
       "      <td>2</td>\n",
       "    </tr>\n",
       "    <tr>\n",
       "      <th>2</th>\n",
       "      <td>Historical Fiction</td>\n",
       "      <td>historical_fiction</td>\n",
       "      <td>historical-fiction_4</td>\n",
       "      <td>26</td>\n",
       "      <td>2</td>\n",
       "    </tr>\n",
       "    <tr>\n",
       "      <th>3</th>\n",
       "      <td>Sequential Art</td>\n",
       "      <td>sequential_art</td>\n",
       "      <td>sequential-art_5</td>\n",
       "      <td>75</td>\n",
       "      <td>4</td>\n",
       "    </tr>\n",
       "    <tr>\n",
       "      <th>4</th>\n",
       "      <td>Classics</td>\n",
       "      <td>classics</td>\n",
       "      <td>classics_6</td>\n",
       "      <td>19</td>\n",
       "      <td>1</td>\n",
       "    </tr>\n",
       "    <tr>\n",
       "      <th>5</th>\n",
       "      <td>Philosophy</td>\n",
       "      <td>philosophy</td>\n",
       "      <td>philosophy_7</td>\n",
       "      <td>11</td>\n",
       "      <td>1</td>\n",
       "    </tr>\n",
       "    <tr>\n",
       "      <th>6</th>\n",
       "      <td>Romance</td>\n",
       "      <td>romance</td>\n",
       "      <td>romance_8</td>\n",
       "      <td>35</td>\n",
       "      <td>2</td>\n",
       "    </tr>\n",
       "    <tr>\n",
       "      <th>7</th>\n",
       "      <td>Womens Fiction</td>\n",
       "      <td>womens_fiction</td>\n",
       "      <td>womens-fiction_9</td>\n",
       "      <td>17</td>\n",
       "      <td>1</td>\n",
       "    </tr>\n",
       "    <tr>\n",
       "      <th>8</th>\n",
       "      <td>Fiction</td>\n",
       "      <td>fiction</td>\n",
       "      <td>fiction_10</td>\n",
       "      <td>65</td>\n",
       "      <td>4</td>\n",
       "    </tr>\n",
       "    <tr>\n",
       "      <th>9</th>\n",
       "      <td>Childrens</td>\n",
       "      <td>childrens</td>\n",
       "      <td>childrens_11</td>\n",
       "      <td>29</td>\n",
       "      <td>2</td>\n",
       "    </tr>\n",
       "    <tr>\n",
       "      <th>10</th>\n",
       "      <td>Religion</td>\n",
       "      <td>religion</td>\n",
       "      <td>religion_12</td>\n",
       "      <td>7</td>\n",
       "      <td>1</td>\n",
       "    </tr>\n",
       "    <tr>\n",
       "      <th>11</th>\n",
       "      <td>Nonfiction</td>\n",
       "      <td>nonfiction</td>\n",
       "      <td>nonfiction_13</td>\n",
       "      <td>110</td>\n",
       "      <td>6</td>\n",
       "    </tr>\n",
       "    <tr>\n",
       "      <th>12</th>\n",
       "      <td>Music</td>\n",
       "      <td>music</td>\n",
       "      <td>music_14</td>\n",
       "      <td>13</td>\n",
       "      <td>1</td>\n",
       "    </tr>\n",
       "    <tr>\n",
       "      <th>13</th>\n",
       "      <td>Default</td>\n",
       "      <td>default</td>\n",
       "      <td>default_15</td>\n",
       "      <td>152</td>\n",
       "      <td>8</td>\n",
       "    </tr>\n",
       "    <tr>\n",
       "      <th>14</th>\n",
       "      <td>Science Fiction</td>\n",
       "      <td>science_fiction</td>\n",
       "      <td>science-fiction_16</td>\n",
       "      <td>16</td>\n",
       "      <td>1</td>\n",
       "    </tr>\n",
       "    <tr>\n",
       "      <th>15</th>\n",
       "      <td>Sports and Games</td>\n",
       "      <td>sports_and_games</td>\n",
       "      <td>sports-and-games_17</td>\n",
       "      <td>5</td>\n",
       "      <td>1</td>\n",
       "    </tr>\n",
       "    <tr>\n",
       "      <th>16</th>\n",
       "      <td>Add a comment</td>\n",
       "      <td>add_a_comment</td>\n",
       "      <td>add-a-comment_18</td>\n",
       "      <td>67</td>\n",
       "      <td>4</td>\n",
       "    </tr>\n",
       "    <tr>\n",
       "      <th>17</th>\n",
       "      <td>Fantasy</td>\n",
       "      <td>fantasy</td>\n",
       "      <td>fantasy_19</td>\n",
       "      <td>48</td>\n",
       "      <td>3</td>\n",
       "    </tr>\n",
       "    <tr>\n",
       "      <th>18</th>\n",
       "      <td>New Adult</td>\n",
       "      <td>new_adult</td>\n",
       "      <td>new-adult_20</td>\n",
       "      <td>6</td>\n",
       "      <td>1</td>\n",
       "    </tr>\n",
       "    <tr>\n",
       "      <th>19</th>\n",
       "      <td>Young Adult</td>\n",
       "      <td>young_adult</td>\n",
       "      <td>young-adult_21</td>\n",
       "      <td>54</td>\n",
       "      <td>3</td>\n",
       "    </tr>\n",
       "    <tr>\n",
       "      <th>20</th>\n",
       "      <td>Science</td>\n",
       "      <td>science</td>\n",
       "      <td>science_22</td>\n",
       "      <td>14</td>\n",
       "      <td>1</td>\n",
       "    </tr>\n",
       "    <tr>\n",
       "      <th>21</th>\n",
       "      <td>Poetry</td>\n",
       "      <td>poetry</td>\n",
       "      <td>poetry_23</td>\n",
       "      <td>19</td>\n",
       "      <td>1</td>\n",
       "    </tr>\n",
       "    <tr>\n",
       "      <th>22</th>\n",
       "      <td>Paranormal</td>\n",
       "      <td>paranormal</td>\n",
       "      <td>paranormal_24</td>\n",
       "      <td>1</td>\n",
       "      <td>1</td>\n",
       "    </tr>\n",
       "    <tr>\n",
       "      <th>23</th>\n",
       "      <td>Art</td>\n",
       "      <td>art</td>\n",
       "      <td>art_25</td>\n",
       "      <td>8</td>\n",
       "      <td>1</td>\n",
       "    </tr>\n",
       "    <tr>\n",
       "      <th>24</th>\n",
       "      <td>Psychology</td>\n",
       "      <td>psychology</td>\n",
       "      <td>psychology_26</td>\n",
       "      <td>7</td>\n",
       "      <td>1</td>\n",
       "    </tr>\n",
       "    <tr>\n",
       "      <th>25</th>\n",
       "      <td>Autobiography</td>\n",
       "      <td>autobiography</td>\n",
       "      <td>autobiography_27</td>\n",
       "      <td>9</td>\n",
       "      <td>1</td>\n",
       "    </tr>\n",
       "    <tr>\n",
       "      <th>26</th>\n",
       "      <td>Parenting</td>\n",
       "      <td>parenting</td>\n",
       "      <td>parenting_28</td>\n",
       "      <td>1</td>\n",
       "      <td>1</td>\n",
       "    </tr>\n",
       "    <tr>\n",
       "      <th>27</th>\n",
       "      <td>Adult Fiction</td>\n",
       "      <td>adult_fiction</td>\n",
       "      <td>adult-fiction_29</td>\n",
       "      <td>1</td>\n",
       "      <td>1</td>\n",
       "    </tr>\n",
       "    <tr>\n",
       "      <th>28</th>\n",
       "      <td>Humor</td>\n",
       "      <td>humor</td>\n",
       "      <td>humor_30</td>\n",
       "      <td>10</td>\n",
       "      <td>1</td>\n",
       "    </tr>\n",
       "    <tr>\n",
       "      <th>29</th>\n",
       "      <td>Horror</td>\n",
       "      <td>horror</td>\n",
       "      <td>horror_31</td>\n",
       "      <td>17</td>\n",
       "      <td>1</td>\n",
       "    </tr>\n",
       "    <tr>\n",
       "      <th>30</th>\n",
       "      <td>History</td>\n",
       "      <td>history</td>\n",
       "      <td>history_32</td>\n",
       "      <td>18</td>\n",
       "      <td>1</td>\n",
       "    </tr>\n",
       "    <tr>\n",
       "      <th>31</th>\n",
       "      <td>Food and Drink</td>\n",
       "      <td>food_and_drink</td>\n",
       "      <td>food-and-drink_33</td>\n",
       "      <td>30</td>\n",
       "      <td>2</td>\n",
       "    </tr>\n",
       "    <tr>\n",
       "      <th>32</th>\n",
       "      <td>Christian Fiction</td>\n",
       "      <td>christian_fiction</td>\n",
       "      <td>christian-fiction_34</td>\n",
       "      <td>6</td>\n",
       "      <td>1</td>\n",
       "    </tr>\n",
       "    <tr>\n",
       "      <th>33</th>\n",
       "      <td>Business</td>\n",
       "      <td>business</td>\n",
       "      <td>business_35</td>\n",
       "      <td>12</td>\n",
       "      <td>1</td>\n",
       "    </tr>\n",
       "    <tr>\n",
       "      <th>34</th>\n",
       "      <td>Biography</td>\n",
       "      <td>biography</td>\n",
       "      <td>biography_36</td>\n",
       "      <td>5</td>\n",
       "      <td>1</td>\n",
       "    </tr>\n",
       "    <tr>\n",
       "      <th>35</th>\n",
       "      <td>Thriller</td>\n",
       "      <td>thriller</td>\n",
       "      <td>thriller_37</td>\n",
       "      <td>11</td>\n",
       "      <td>1</td>\n",
       "    </tr>\n",
       "    <tr>\n",
       "      <th>36</th>\n",
       "      <td>Contemporary</td>\n",
       "      <td>contemporary</td>\n",
       "      <td>contemporary_38</td>\n",
       "      <td>3</td>\n",
       "      <td>1</td>\n",
       "    </tr>\n",
       "    <tr>\n",
       "      <th>37</th>\n",
       "      <td>Spirituality</td>\n",
       "      <td>spirituality</td>\n",
       "      <td>spirituality_39</td>\n",
       "      <td>6</td>\n",
       "      <td>1</td>\n",
       "    </tr>\n",
       "    <tr>\n",
       "      <th>38</th>\n",
       "      <td>Academic</td>\n",
       "      <td>academic</td>\n",
       "      <td>academic_40</td>\n",
       "      <td>1</td>\n",
       "      <td>1</td>\n",
       "    </tr>\n",
       "    <tr>\n",
       "      <th>39</th>\n",
       "      <td>Self Help</td>\n",
       "      <td>self_help</td>\n",
       "      <td>self-help_41</td>\n",
       "      <td>5</td>\n",
       "      <td>1</td>\n",
       "    </tr>\n",
       "    <tr>\n",
       "      <th>40</th>\n",
       "      <td>Historical</td>\n",
       "      <td>historical</td>\n",
       "      <td>historical_42</td>\n",
       "      <td>2</td>\n",
       "      <td>1</td>\n",
       "    </tr>\n",
       "    <tr>\n",
       "      <th>41</th>\n",
       "      <td>Christian</td>\n",
       "      <td>christian</td>\n",
       "      <td>christian_43</td>\n",
       "      <td>3</td>\n",
       "      <td>1</td>\n",
       "    </tr>\n",
       "    <tr>\n",
       "      <th>42</th>\n",
       "      <td>Suspense</td>\n",
       "      <td>suspense</td>\n",
       "      <td>suspense_44</td>\n",
       "      <td>1</td>\n",
       "      <td>1</td>\n",
       "    </tr>\n",
       "    <tr>\n",
       "      <th>43</th>\n",
       "      <td>Short Stories</td>\n",
       "      <td>short_stories</td>\n",
       "      <td>short-stories_45</td>\n",
       "      <td>1</td>\n",
       "      <td>1</td>\n",
       "    </tr>\n",
       "    <tr>\n",
       "      <th>44</th>\n",
       "      <td>Novels</td>\n",
       "      <td>novels</td>\n",
       "      <td>novels_46</td>\n",
       "      <td>1</td>\n",
       "      <td>1</td>\n",
       "    </tr>\n",
       "    <tr>\n",
       "      <th>45</th>\n",
       "      <td>Health</td>\n",
       "      <td>health</td>\n",
       "      <td>health_47</td>\n",
       "      <td>4</td>\n",
       "      <td>1</td>\n",
       "    </tr>\n",
       "    <tr>\n",
       "      <th>46</th>\n",
       "      <td>Politics</td>\n",
       "      <td>politics</td>\n",
       "      <td>politics_48</td>\n",
       "      <td>3</td>\n",
       "      <td>1</td>\n",
       "    </tr>\n",
       "    <tr>\n",
       "      <th>47</th>\n",
       "      <td>Cultural</td>\n",
       "      <td>cultural</td>\n",
       "      <td>cultural_49</td>\n",
       "      <td>1</td>\n",
       "      <td>1</td>\n",
       "    </tr>\n",
       "    <tr>\n",
       "      <th>48</th>\n",
       "      <td>Erotica</td>\n",
       "      <td>erotica</td>\n",
       "      <td>erotica_50</td>\n",
       "      <td>1</td>\n",
       "      <td>1</td>\n",
       "    </tr>\n",
       "    <tr>\n",
       "      <th>49</th>\n",
       "      <td>Crime</td>\n",
       "      <td>crime</td>\n",
       "      <td>crime_51</td>\n",
       "      <td>1</td>\n",
       "      <td>1</td>\n",
       "    </tr>\n",
       "  </tbody>\n",
       "</table>\n",
       "</div>"
      ],
      "text/plain": [
       "                  Name                Code                   URL  Size  Pages\n",
       "0               Travel              travel              travel_2    11      1\n",
       "1              Mystery             mystery             mystery_3    32      2\n",
       "2   Historical Fiction  historical_fiction  historical-fiction_4    26      2\n",
       "3       Sequential Art      sequential_art      sequential-art_5    75      4\n",
       "4             Classics            classics            classics_6    19      1\n",
       "5           Philosophy          philosophy          philosophy_7    11      1\n",
       "6              Romance             romance             romance_8    35      2\n",
       "7       Womens Fiction      womens_fiction      womens-fiction_9    17      1\n",
       "8              Fiction             fiction            fiction_10    65      4\n",
       "9            Childrens           childrens          childrens_11    29      2\n",
       "10            Religion            religion           religion_12     7      1\n",
       "11          Nonfiction          nonfiction         nonfiction_13   110      6\n",
       "12               Music               music              music_14    13      1\n",
       "13             Default             default            default_15   152      8\n",
       "14     Science Fiction     science_fiction    science-fiction_16    16      1\n",
       "15    Sports and Games    sports_and_games   sports-and-games_17     5      1\n",
       "16       Add a comment       add_a_comment      add-a-comment_18    67      4\n",
       "17             Fantasy             fantasy            fantasy_19    48      3\n",
       "18           New Adult           new_adult          new-adult_20     6      1\n",
       "19         Young Adult         young_adult        young-adult_21    54      3\n",
       "20             Science             science            science_22    14      1\n",
       "21              Poetry              poetry             poetry_23    19      1\n",
       "22          Paranormal          paranormal         paranormal_24     1      1\n",
       "23                 Art                 art                art_25     8      1\n",
       "24          Psychology          psychology         psychology_26     7      1\n",
       "25       Autobiography       autobiography      autobiography_27     9      1\n",
       "26           Parenting           parenting          parenting_28     1      1\n",
       "27       Adult Fiction       adult_fiction      adult-fiction_29     1      1\n",
       "28               Humor               humor              humor_30    10      1\n",
       "29              Horror              horror             horror_31    17      1\n",
       "30             History             history            history_32    18      1\n",
       "31      Food and Drink      food_and_drink     food-and-drink_33    30      2\n",
       "32   Christian Fiction   christian_fiction  christian-fiction_34     6      1\n",
       "33            Business            business           business_35    12      1\n",
       "34           Biography           biography          biography_36     5      1\n",
       "35            Thriller            thriller           thriller_37    11      1\n",
       "36        Contemporary        contemporary       contemporary_38     3      1\n",
       "37        Spirituality        spirituality       spirituality_39     6      1\n",
       "38            Academic            academic           academic_40     1      1\n",
       "39           Self Help           self_help          self-help_41     5      1\n",
       "40          Historical          historical         historical_42     2      1\n",
       "41           Christian           christian          christian_43     3      1\n",
       "42            Suspense            suspense           suspense_44     1      1\n",
       "43       Short Stories       short_stories      short-stories_45     1      1\n",
       "44              Novels              novels             novels_46     1      1\n",
       "45              Health              health             health_47     4      1\n",
       "46            Politics            politics           politics_48     3      1\n",
       "47            Cultural            cultural           cultural_49     1      1\n",
       "48             Erotica             erotica            erotica_50     1      1\n",
       "49               Crime               crime              crime_51     1      1"
      ]
     },
     "execution_count": 14,
     "metadata": {},
     "output_type": "execute_result"
    }
   ],
   "source": [
    "Categories"
   ]
  },
  {
   "cell_type": "markdown",
   "id": "db727e7a-8458-41c6-b94e-d4a000802d7a",
   "metadata": {},
   "source": [
    "As mentioned before, we could go straight to the individual book pages and gain all the data we want, but we will go through the catelog category by category. We extract the available data from the pages that list the books for the particular category. The goal is to end up with a dataframe containing the title, star rating, price, whether the book is in stock, the book's individual URL and the category."
   ]
  },
  {
   "cell_type": "code",
   "execution_count": 15,
   "id": "1c601f1b-a5ef-49fb-bad6-c9399916189e",
   "metadata": {},
   "outputs": [],
   "source": [
    "# initialize lists (these will be added to in the loop below using the function .extend())\n",
    "title = []\n",
    "stars = []\n",
    "price = []\n",
    "in_stock = []\n",
    "book_url = []\n",
    "category = []\n",
    "\n",
    "# loop through all categories\n",
    "for i in range(Categories.shape[0]):\n",
    "    # extract title, star rating, price and stock information from the index page (notice that URL is not yet included here, see below why)\n",
    "    url = f'http://books.toscrape.com/catalogue/category/books/{Categories.URL[i]}/index.html'\n",
    "    soup = scraper(url)\n",
    "    title.extend([text.get('alt') for text in soup.find_all('img')])\n",
    "    stars.extend([soup.find_all('p')[i].get('class')[1] for i in range(0, len(soup.find_all('p')), 3)])\n",
    "    price.extend([soup.find_all('p')[i].text.strip() for i in range(1, len(soup.find_all('p')), 3)])\n",
    "    in_stock.extend([soup.find_all('p')[i].text.strip() for i in range(2, len(soup.find_all('p')), 3)])\n",
    "\n",
    "    # categories that have more than one page have different looking pages since they have the option to go to the next/previous page at the bottom\n",
    "    # which adds elements to the list resulting from << soup.find_all('a') >>. this is dealt with uing if/else statements\n",
    "    if Categories.Pages[i] > 1: # category in loop has more than one page\n",
    "        # 1 element is added to list resulting from << soup.find_all('a') >>: next button\n",
    "        # also, notice that we start the iteration at the 43rd element. that's because all the elements before are other parts of the page\n",
    "        book_url.extend([f\"http://books.toscrape.com/catalogue{url.get('href').rsplit('..', 1)[1]}\" for url in soup.find_all('a')[54:-1:2]])\n",
    "\n",
    "        # loop through pages 2 and up\n",
    "        for p in range(1, Categories.Pages[i]):\n",
    "            # extract title, star rating, price and stock information from the index page\n",
    "            url = f'http://books.toscrape.com/catalogue/category/books/{Categories.URL[i]}/page-{p+1}.html'\n",
    "            soup = scraper(url)\n",
    "            title.extend([text.get('alt') for text in soup.find_all('img')])\n",
    "            stars.extend([soup.find_all('p')[i].get('class')[1] for i in range(0, len(soup.find_all('p')), 3)])\n",
    "            price.extend([soup.find_all('p')[i].text.strip() for i in range(1, len(soup.find_all('p')), 3)])\n",
    "            in_stock.extend([soup.find_all('p')[i].text.strip() for i in range(2, len(soup.find_all('p')), 3)])\n",
    "\n",
    "            # again, categories that have more than two pages, have different looking middle pages (so different from the first and last page)\n",
    "            if p == Categories.Pages[i]: # page in the loop is the final page \n",
    "                                         # (1 element is added to list resulting from << soup.find_all('a') >>: previous button)\n",
    "                book_url.extend([f\"http://books.toscrape.com/catalogue{url.get('href').rsplit('..', 1)[1]}\" for url in soup.find_all('a')[54:-1:2]])\n",
    "            else: # page in the loop is a middle page (2 elements are added to list resulting from << soup.find_all('a') >>: previous and next button)\n",
    "                book_url.extend([f\"http://books.toscrape.com/catalogue{url.get('href').rsplit('..', 1)[1]}\" for url in soup.find_all('a')[54:-2:2]])\n",
    "    else: # category in loop only has one page (the index page)\n",
    "        book_url.extend([f\"http://books.toscrape.com/catalogue{url.get('href').rsplit('..', 1)[1]}\" for url in soup.find_all('a')[54::2]])\n",
    "\n",
    "    # add category corresponding to the book\n",
    "    category.extend([Categories.Name[i]] * Categories.Size[i])\n",
    "    \n",
    "    # being friendly to the server\n",
    "    time.sleep(1.5)"
   ]
  },
  {
   "cell_type": "markdown",
   "id": "2286f7ce-016a-4646-886c-aa8f7fc1c82f",
   "metadata": {},
   "source": [
    "We combine all the scraped data in a dataframe named `Catalog`."
   ]
  },
  {
   "cell_type": "code",
   "execution_count": 16,
   "id": "6ebc3033-b1e1-4b05-b59c-6ab6674787c0",
   "metadata": {},
   "outputs": [],
   "source": [
    "Catalog = pd.DataFrame({\n",
    "    'Title': title,\n",
    "    'Stars': stars,\n",
    "    'Price': price,\n",
    "    'In_Stock': in_stock,\n",
    "    'URL': book_url,\n",
    "    'Category': category\n",
    "})"
   ]
  },
  {
   "cell_type": "code",
   "execution_count": 17,
   "id": "f72231e2-4c15-48a5-92f6-05bacf964cd1",
   "metadata": {},
   "outputs": [
    {
     "data": {
      "text/html": [
       "<div>\n",
       "<style scoped>\n",
       "    .dataframe tbody tr th:only-of-type {\n",
       "        vertical-align: middle;\n",
       "    }\n",
       "\n",
       "    .dataframe tbody tr th {\n",
       "        vertical-align: top;\n",
       "    }\n",
       "\n",
       "    .dataframe thead th {\n",
       "        text-align: right;\n",
       "    }\n",
       "</style>\n",
       "<table border=\"1\" class=\"dataframe\">\n",
       "  <thead>\n",
       "    <tr style=\"text-align: right;\">\n",
       "      <th></th>\n",
       "      <th>Title</th>\n",
       "      <th>Stars</th>\n",
       "      <th>Price</th>\n",
       "      <th>In_Stock</th>\n",
       "      <th>URL</th>\n",
       "      <th>Category</th>\n",
       "    </tr>\n",
       "  </thead>\n",
       "  <tbody>\n",
       "    <tr>\n",
       "      <th>0</th>\n",
       "      <td>It's Only the Himalayas</td>\n",
       "      <td>Two</td>\n",
       "      <td>Â£45.17</td>\n",
       "      <td>In stock</td>\n",
       "      <td>http://books.toscrape.com/catalogue/its-only-t...</td>\n",
       "      <td>Travel</td>\n",
       "    </tr>\n",
       "    <tr>\n",
       "      <th>1</th>\n",
       "      <td>Full Moon over Noahâs Ark: An Odyssey to Mou...</td>\n",
       "      <td>Four</td>\n",
       "      <td>Â£49.43</td>\n",
       "      <td>In stock</td>\n",
       "      <td>http://books.toscrape.com/catalogue/full-moon-...</td>\n",
       "      <td>Travel</td>\n",
       "    </tr>\n",
       "    <tr>\n",
       "      <th>2</th>\n",
       "      <td>See America: A Celebration of Our National Par...</td>\n",
       "      <td>Three</td>\n",
       "      <td>Â£48.87</td>\n",
       "      <td>In stock</td>\n",
       "      <td>http://books.toscrape.com/catalogue/see-americ...</td>\n",
       "      <td>Travel</td>\n",
       "    </tr>\n",
       "    <tr>\n",
       "      <th>3</th>\n",
       "      <td>Vagabonding: An Uncommon Guide to the Art of L...</td>\n",
       "      <td>Two</td>\n",
       "      <td>Â£36.94</td>\n",
       "      <td>In stock</td>\n",
       "      <td>http://books.toscrape.com/catalogue/vagabondin...</td>\n",
       "      <td>Travel</td>\n",
       "    </tr>\n",
       "    <tr>\n",
       "      <th>4</th>\n",
       "      <td>Under the Tuscan Sun</td>\n",
       "      <td>Three</td>\n",
       "      <td>Â£37.33</td>\n",
       "      <td>In stock</td>\n",
       "      <td>http://books.toscrape.com/catalogue/under-the-...</td>\n",
       "      <td>Travel</td>\n",
       "    </tr>\n",
       "  </tbody>\n",
       "</table>\n",
       "</div>"
      ],
      "text/plain": [
       "                                               Title  Stars    Price  \\\n",
       "0                            It's Only the Himalayas    Two  Â£45.17   \n",
       "1  Full Moon over Noahâs Ark: An Odyssey to Mou...   Four  Â£49.43   \n",
       "2  See America: A Celebration of Our National Par...  Three  Â£48.87   \n",
       "3  Vagabonding: An Uncommon Guide to the Art of L...    Two  Â£36.94   \n",
       "4                               Under the Tuscan Sun  Three  Â£37.33   \n",
       "\n",
       "   In_Stock                                                URL Category  \n",
       "0  In stock  http://books.toscrape.com/catalogue/its-only-t...   Travel  \n",
       "1  In stock  http://books.toscrape.com/catalogue/full-moon-...   Travel  \n",
       "2  In stock  http://books.toscrape.com/catalogue/see-americ...   Travel  \n",
       "3  In stock  http://books.toscrape.com/catalogue/vagabondin...   Travel  \n",
       "4  In stock  http://books.toscrape.com/catalogue/under-the-...   Travel  "
      ]
     },
     "execution_count": 17,
     "metadata": {},
     "output_type": "execute_result"
    }
   ],
   "source": [
    "Catalog.head()"
   ]
  },
  {
   "cell_type": "markdown",
   "id": "ab2ff594-79ac-470e-86e4-f1077e3c604e",
   "metadata": {},
   "source": [
    "Notice that the price is not a float. We remove the currency sign and convert the prices into float elements."
   ]
  },
  {
   "cell_type": "code",
   "execution_count": 18,
   "id": "3d212db7-6303-4271-b290-2fc9c15524ca",
   "metadata": {},
   "outputs": [],
   "source": [
    "Catalog['Price'] = [price[2:] for price in Catalog.Price]\n",
    "Catalog = Catalog.astype({'Price':'float'})"
   ]
  },
  {
   "cell_type": "markdown",
   "id": "a7949c64-bcbe-4964-8202-2c91f8f4ee93",
   "metadata": {},
   "source": [
    "Another thing is that the star ratings are written out. It would be more convenient if they were just numerical."
   ]
  },
  {
   "cell_type": "code",
   "execution_count": 19,
   "id": "a7b8dcb3-b374-45ba-9d3a-be71b7a8968f",
   "metadata": {},
   "outputs": [
    {
     "data": {
      "text/plain": [
       "array(['Two', 'Four', 'Three', 'One', 'Five'], dtype=object)"
      ]
     },
     "execution_count": 19,
     "metadata": {},
     "output_type": "execute_result"
    }
   ],
   "source": [
    "pd.unique(Catalog.Stars)"
   ]
  },
  {
   "cell_type": "code",
   "execution_count": 20,
   "id": "41dfca18-d634-41dd-8f3e-ab3e10453c4b",
   "metadata": {},
   "outputs": [],
   "source": [
    "nmbrs = ['One', 'Two', 'Three', 'Four', 'Five']\n",
    "\n",
    "for i in range(5):\n",
    "    Catalog.loc[Catalog['Stars'] == nmbrs[i], 'Stars'] = i + 1\n",
    "\n",
    "Catalog = Catalog.astype({'Stars':'int64'})"
   ]
  },
  {
   "cell_type": "code",
   "execution_count": 21,
   "id": "7e78a013-b275-4283-a429-cc1754e109d5",
   "metadata": {},
   "outputs": [
    {
     "data": {
      "text/html": [
       "<div>\n",
       "<style scoped>\n",
       "    .dataframe tbody tr th:only-of-type {\n",
       "        vertical-align: middle;\n",
       "    }\n",
       "\n",
       "    .dataframe tbody tr th {\n",
       "        vertical-align: top;\n",
       "    }\n",
       "\n",
       "    .dataframe thead th {\n",
       "        text-align: right;\n",
       "    }\n",
       "</style>\n",
       "<table border=\"1\" class=\"dataframe\">\n",
       "  <thead>\n",
       "    <tr style=\"text-align: right;\">\n",
       "      <th></th>\n",
       "      <th>Title</th>\n",
       "      <th>Stars</th>\n",
       "      <th>Price</th>\n",
       "      <th>In_Stock</th>\n",
       "      <th>URL</th>\n",
       "      <th>Category</th>\n",
       "    </tr>\n",
       "  </thead>\n",
       "  <tbody>\n",
       "    <tr>\n",
       "      <th>0</th>\n",
       "      <td>It's Only the Himalayas</td>\n",
       "      <td>2</td>\n",
       "      <td>45.17</td>\n",
       "      <td>In stock</td>\n",
       "      <td>http://books.toscrape.com/catalogue/its-only-t...</td>\n",
       "      <td>Travel</td>\n",
       "    </tr>\n",
       "    <tr>\n",
       "      <th>1</th>\n",
       "      <td>Full Moon over Noahâs Ark: An Odyssey to Mou...</td>\n",
       "      <td>4</td>\n",
       "      <td>49.43</td>\n",
       "      <td>In stock</td>\n",
       "      <td>http://books.toscrape.com/catalogue/full-moon-...</td>\n",
       "      <td>Travel</td>\n",
       "    </tr>\n",
       "    <tr>\n",
       "      <th>2</th>\n",
       "      <td>See America: A Celebration of Our National Par...</td>\n",
       "      <td>3</td>\n",
       "      <td>48.87</td>\n",
       "      <td>In stock</td>\n",
       "      <td>http://books.toscrape.com/catalogue/see-americ...</td>\n",
       "      <td>Travel</td>\n",
       "    </tr>\n",
       "    <tr>\n",
       "      <th>3</th>\n",
       "      <td>Vagabonding: An Uncommon Guide to the Art of L...</td>\n",
       "      <td>2</td>\n",
       "      <td>36.94</td>\n",
       "      <td>In stock</td>\n",
       "      <td>http://books.toscrape.com/catalogue/vagabondin...</td>\n",
       "      <td>Travel</td>\n",
       "    </tr>\n",
       "    <tr>\n",
       "      <th>4</th>\n",
       "      <td>Under the Tuscan Sun</td>\n",
       "      <td>3</td>\n",
       "      <td>37.33</td>\n",
       "      <td>In stock</td>\n",
       "      <td>http://books.toscrape.com/catalogue/under-the-...</td>\n",
       "      <td>Travel</td>\n",
       "    </tr>\n",
       "  </tbody>\n",
       "</table>\n",
       "</div>"
      ],
      "text/plain": [
       "                                               Title  Stars  Price  In_Stock  \\\n",
       "0                            It's Only the Himalayas      2  45.17  In stock   \n",
       "1  Full Moon over Noahâs Ark: An Odyssey to Mou...      4  49.43  In stock   \n",
       "2  See America: A Celebration of Our National Par...      3  48.87  In stock   \n",
       "3  Vagabonding: An Uncommon Guide to the Art of L...      2  36.94  In stock   \n",
       "4                               Under the Tuscan Sun      3  37.33  In stock   \n",
       "\n",
       "                                                 URL Category  \n",
       "0  http://books.toscrape.com/catalogue/its-only-t...   Travel  \n",
       "1  http://books.toscrape.com/catalogue/full-moon-...   Travel  \n",
       "2  http://books.toscrape.com/catalogue/see-americ...   Travel  \n",
       "3  http://books.toscrape.com/catalogue/vagabondin...   Travel  \n",
       "4  http://books.toscrape.com/catalogue/under-the-...   Travel  "
      ]
     },
     "execution_count": 21,
     "metadata": {},
     "output_type": "execute_result"
    }
   ],
   "source": [
    "Catalog.head()"
   ]
  },
  {
   "cell_type": "markdown",
   "id": "f6200991-8403-4e71-adfb-c855ef956cd4",
   "metadata": {},
   "source": [
    "We will use the book URLs in `Catalog` to scrape each individual page. We first want to that a look at the structure of the HTML script of these pages."
   ]
  },
  {
   "cell_type": "code",
   "execution_count": null,
   "id": "e6f8f170-4eff-4b21-99d2-001b8b27465f",
   "metadata": {
    "scrolled": true
   },
   "outputs": [],
   "source": [
    "soup = scraper(book_url[0])\n",
    "soup"
   ]
  },
  {
   "cell_type": "markdown",
   "id": "f4a0721f-906f-495e-b7d3-1504366fa33f",
   "metadata": {},
   "source": [
    "There are some elements on this page that we haven't yet added to the dataset but could be interesting for this project. This includes the product description, the UPC and the number of books still in stock. Other information that is also stated on the page is the number of reviews, the VAT, the product type, the other viewed products and the warning text. You can even see when the content was created. Since this is a static mock website (and only showing one product type: books), we will exclude them from this beginner project."
   ]
  },
  {
   "cell_type": "markdown",
   "id": "7177921b-30d3-4db5-85d1-39c95058a25b",
   "metadata": {},
   "source": [
    "Our the stock size and the description are found in the p tags."
   ]
  },
  {
   "cell_type": "code",
   "execution_count": null,
   "id": "bade5d55-430f-404f-8ac0-78a1454ad11f",
   "metadata": {
    "scrolled": true
   },
   "outputs": [],
   "source": [
    "soup.find_all('p')"
   ]
  },
  {
   "cell_type": "markdown",
   "id": "45af95b1-afc1-4fc4-85c6-f895cf13b7b2",
   "metadata": {},
   "source": [
    "What we didn´t do before, but which would help us now, is making use of the classes of the p tags. For example, the stock size is found under the class `instock availability`."
   ]
  },
  {
   "cell_type": "code",
   "execution_count": 24,
   "id": "d2ab5686-6bbd-4d50-9709-9a00db948633",
   "metadata": {
    "scrolled": true
   },
   "outputs": [
    {
     "data": {
      "text/plain": [
       "[<p class=\"instock availability\">\n",
       " <i class=\"icon-ok\"></i>\n",
       "     \n",
       "         In stock (19 available)\n",
       "     \n",
       " </p>,\n",
       " <p class=\"instock availability\">\n",
       " <i class=\"icon-ok\"></i>\n",
       "     \n",
       "         In stock\n",
       "     \n",
       " </p>,\n",
       " <p class=\"instock availability\">\n",
       " <i class=\"icon-ok\"></i>\n",
       "     \n",
       "         In stock\n",
       "     \n",
       " </p>,\n",
       " <p class=\"instock availability\">\n",
       " <i class=\"icon-ok\"></i>\n",
       "     \n",
       "         In stock\n",
       "     \n",
       " </p>,\n",
       " <p class=\"instock availability\">\n",
       " <i class=\"icon-ok\"></i>\n",
       "     \n",
       "         In stock\n",
       "     \n",
       " </p>,\n",
       " <p class=\"instock availability\">\n",
       " <i class=\"icon-ok\"></i>\n",
       "     \n",
       "         In stock\n",
       "     \n",
       " </p>,\n",
       " <p class=\"instock availability\">\n",
       " <i class=\"icon-ok\"></i>\n",
       "     \n",
       "         In stock\n",
       "     \n",
       " </p>]"
      ]
     },
     "execution_count": 24,
     "metadata": {},
     "output_type": "execute_result"
    }
   ],
   "source": [
    "soup.find_all('p', class_='instock availability')"
   ]
  },
  {
   "cell_type": "markdown",
   "id": "ec2020e6-bf31-42c0-924b-6fad7fdd4dc5",
   "metadata": {},
   "source": [
    "The output shows us stock information on not just the book that corresponds to the page, but also of the books that we previously viewed which are displayed at the bottom of the page. So we are only interested in the first element of this list."
   ]
  },
  {
   "cell_type": "code",
   "execution_count": 25,
   "id": "f78f47db-5d40-4a76-b5be-ca4938d03e62",
   "metadata": {},
   "outputs": [
    {
     "data": {
      "text/plain": [
       "['19']"
      ]
     },
     "execution_count": 25,
     "metadata": {},
     "output_type": "execute_result"
    }
   ],
   "source": [
    "re.findall(r'\\d+', soup.find('p', class_='instock availability').text)"
   ]
  },
  {
   "cell_type": "markdown",
   "id": "8d134501-ab0d-492b-b03c-c2eb1847aaab",
   "metadata": {},
   "source": [
    "The description does not have its own class in the p tags, but it can also be found in the meta tags where it's easier found and extracted."
   ]
  },
  {
   "cell_type": "code",
   "execution_count": 26,
   "id": "b881e658-340e-4039-933e-f0aa12e8b027",
   "metadata": {},
   "outputs": [
    {
     "data": {
      "text/plain": [
       "<meta content=\"\n",
       "    âWherever you go, whatever you do, just . . . donât do anything stupid.â âMy MotherDuring her yearlong adventure backpacking from South Africa to Singapore, S. Bedford definitely did a few things her mother might classify as &quot;stupid.&quot; She swam with great white sharks in South Africa, ran from lions in Zimbabwe, climbed a Himalayan mountain without training in Nepal, and wa âWherever you go, whatever you do, just . . . donât do anything stupid.â âMy MotherDuring her yearlong adventure backpacking from South Africa to Singapore, S. Bedford definitely did a few things her mother might classify as &quot;stupid.&quot; She swam with great white sharks in South Africa, ran from lions in Zimbabwe, climbed a Himalayan mountain without training in Nepal, and watched as her friend was attacked by a monkey in Indonesia.But interspersed in those slightly more crazy moments, Sue Bedfored and her friend &quot;Sara the Stoic&quot; experienced the sights, sounds, life, and culture of fifteen countries. Joined along the way by a few friends and their aging fathers here and there, Sue and Sara experience the trip of a lifetime. They fall in love with the world, cultivate an appreciation for home, and discover who, or what, they want to become.It's Only the Himalayas is the incredibly funny, sometimes outlandish, always entertaining confession of a young backpacker that will inspire you to take your own adventure. ...more\n",
       "\" name=\"description\"/>"
      ]
     },
     "execution_count": 26,
     "metadata": {},
     "output_type": "execute_result"
    }
   ],
   "source": [
    "soup.find('meta', attrs={'name': 'description'})"
   ]
  },
  {
   "cell_type": "markdown",
   "id": "96520232-15ec-4417-9e19-303b6e2cccd7",
   "metadata": {},
   "source": [
    "We now need to get the text from the output. "
   ]
  },
  {
   "cell_type": "code",
   "execution_count": 27,
   "id": "076e882d-0821-4a58-bd65-8aacb18b19bc",
   "metadata": {},
   "outputs": [
    {
     "data": {
      "text/plain": [
       "'\\n    â\\x80\\x9cWherever you go, whatever you do, just . . . donâ\\x80\\x99t do anything stupid.â\\x80\\x9d â\\x80\\x94My MotherDuring her yearlong adventure backpacking from South Africa to Singapore, S. Bedford definitely did a few things her mother might classify as \"stupid.\" She swam with great white sharks in South Africa, ran from lions in Zimbabwe, climbed a Himalayan mountain without training in Nepal, and wa â\\x80\\x9cWherever you go, whatever you do, just . . . donâ\\x80\\x99t do anything stupid.â\\x80\\x9d â\\x80\\x94My MotherDuring her yearlong adventure backpacking from South Africa to Singapore, S. Bedford definitely did a few things her mother might classify as \"stupid.\" She swam with great white sharks in South Africa, ran from lions in Zimbabwe, climbed a Himalayan mountain without training in Nepal, and watched as her friend was attacked by a monkey in Indonesia.But interspersed in those slightly more crazy moments, Sue Bedfored and her friend \"Sara the Stoic\" experienced the sights, sounds, life, and culture of fifteen countries. Joined along the way by a few friends and their aging fathers here and there, Sue and Sara experience the trip of a lifetime. They fall in love with the world, cultivate an appreciation for home, and discover who, or what, they want to become.It\\'s Only the Himalayas is the incredibly funny, sometimes outlandish, always entertaining confession of a young backpacker that will inspire you to take your own adventure. ...more\\n'"
      ]
     },
     "execution_count": 27,
     "metadata": {},
     "output_type": "execute_result"
    }
   ],
   "source": [
    "soup.find('meta', attrs={'name': 'description'}).get('content')"
   ]
  },
  {
   "cell_type": "markdown",
   "id": "7227086b-74ee-4184-9799-499c7f36d10c",
   "metadata": {},
   "source": [
    "We could do something about the encoding, we will leave it as is."
   ]
  },
  {
   "cell_type": "markdown",
   "id": "243ead79-08e3-4860-9864-d8fa673eca10",
   "metadata": {},
   "source": [
    "The UPC cannot directly be found by searching p tags. It's found in a tr tag."
   ]
  },
  {
   "cell_type": "code",
   "execution_count": 28,
   "id": "0e221127-b647-4fba-a9d8-170e0495626e",
   "metadata": {},
   "outputs": [
    {
     "data": {
      "text/plain": [
       "'\\nUPCa22124811bfa8350\\n'"
      ]
     },
     "execution_count": 28,
     "metadata": {},
     "output_type": "execute_result"
    }
   ],
   "source": [
    "soup.find_all('tr')[0].text"
   ]
  },
  {
   "cell_type": "markdown",
   "id": "03283ffc-8352-46fc-88d3-607cff0d2031",
   "metadata": {},
   "source": [
    "It looks like this because it is displayed in a table. On the left side it says 'UPC' and on the right side it shows the UPC. We have to isolate the UPC."
   ]
  },
  {
   "cell_type": "code",
   "execution_count": 29,
   "id": "07f77dc0-8731-49fa-9561-60f5daca44a1",
   "metadata": {},
   "outputs": [
    {
     "data": {
      "text/plain": [
       "'a22124811bfa8350'"
      ]
     },
     "execution_count": 29,
     "metadata": {},
     "output_type": "execute_result"
    }
   ],
   "source": [
    "soup.find_all('tr')[0].text[4:-1]"
   ]
  },
  {
   "cell_type": "markdown",
   "id": "904b87f7-4d87-415f-8ad7-814ca3c97e4f",
   "metadata": {},
   "source": [
    "Now that we have figured this all out, we will create a loop that will go through all the pages."
   ]
  },
  {
   "cell_type": "code",
   "execution_count": 30,
   "id": "074b4892-0915-4714-bc31-2bf74ee908bc",
   "metadata": {
    "scrolled": true
   },
   "outputs": [],
   "source": [
    "# initialize lists (these will be added to in the loop below using the function .extend())\n",
    "stock = []\n",
    "description = []\n",
    "upc = []\n",
    "\n",
    "# loop through all the books\n",
    "for url in book_url:\n",
    "    soup = scraper(url)\n",
    "    stock.append(re.findall(r'\\d+', soup.find('p', class_='instock availability').text)[0])\n",
    "    description.append(soup.find('meta', attrs={'name': 'description'}).get('content'))\n",
    "    upc.append(soup.find_all('tr')[0].text[4:-1])\n",
    "    time.sleep(1.5)"
   ]
  },
  {
   "cell_type": "code",
   "execution_count": 31,
   "id": "1c57a919-b441-4d96-b253-9fb75d3d1adf",
   "metadata": {},
   "outputs": [],
   "source": [
    "Catalog['Stock_Size'] = stock\n",
    "Catalog['Description'] = description\n",
    "Catalog['UPC'] = upc"
   ]
  },
  {
   "cell_type": "code",
   "execution_count": 32,
   "id": "422970c7-60da-404c-836b-5c7b45017f89",
   "metadata": {},
   "outputs": [],
   "source": [
    "Catalog = Catalog.astype({'Stock_Size':'int64'})"
   ]
  },
  {
   "cell_type": "markdown",
   "id": "45aadbb1-2edf-42f8-8fb5-db154109dde3",
   "metadata": {},
   "source": [
    "Recall that we created name codes for the categories. These are essentially unique identifiers. We should should also create unique identifiers for the books. This way, a proper database can be built. We will replace `Categories.Code` by `Categories.ID` and we will create `Catalog.ID` for the books."
   ]
  },
  {
   "cell_type": "code",
   "execution_count": 33,
   "id": "70ef28b0-0f2c-405d-8bd9-349df8bfb289",
   "metadata": {},
   "outputs": [],
   "source": [
    "Categories['ID'] = range(1, Categories.shape[0] + 1)\n",
    "Catalog['ID'] = range(1, Catalog.shape[0] + 1)\n",
    "\n",
    "Catalog['Category_ID'] = [0] * Catalog.shape[0]\n",
    "\n",
    "for i in range(Categories.shape[0]):\n",
    "    Catalog.loc[Catalog['Category'] == Categories.loc[i, 'Name'], 'Category_ID'] = Categories.loc[i, 'ID']\n",
    "\n",
    "Categories.drop(columns='Code', inplace=True)"
   ]
  },
  {
   "cell_type": "code",
   "execution_count": 34,
   "id": "b76b23d4-366d-4a72-8c3f-59f13df05c25",
   "metadata": {},
   "outputs": [],
   "source": [
    "catcols = list(Categories.columns)\n",
    "catcols.remove('ID')\n",
    "['ID'] + catcols\n",
    "\n",
    "Categories = Categories[['ID'] + catcols]\n",
    "\n",
    "catcols = list(Catalog.columns)\n",
    "catcols.remove('ID')\n",
    "['ID'] + catcols\n",
    "\n",
    "Catalog = Catalog[['ID'] + catcols]"
   ]
  },
  {
   "cell_type": "code",
   "execution_count": 35,
   "id": "44446112-0843-471d-8096-b1f2312f7e37",
   "metadata": {},
   "outputs": [
    {
     "data": {
      "text/html": [
       "<div>\n",
       "<style scoped>\n",
       "    .dataframe tbody tr th:only-of-type {\n",
       "        vertical-align: middle;\n",
       "    }\n",
       "\n",
       "    .dataframe tbody tr th {\n",
       "        vertical-align: top;\n",
       "    }\n",
       "\n",
       "    .dataframe thead th {\n",
       "        text-align: right;\n",
       "    }\n",
       "</style>\n",
       "<table border=\"1\" class=\"dataframe\">\n",
       "  <thead>\n",
       "    <tr style=\"text-align: right;\">\n",
       "      <th></th>\n",
       "      <th>ID</th>\n",
       "      <th>Name</th>\n",
       "      <th>URL</th>\n",
       "      <th>Size</th>\n",
       "      <th>Pages</th>\n",
       "    </tr>\n",
       "  </thead>\n",
       "  <tbody>\n",
       "    <tr>\n",
       "      <th>0</th>\n",
       "      <td>1</td>\n",
       "      <td>Travel</td>\n",
       "      <td>travel_2</td>\n",
       "      <td>11</td>\n",
       "      <td>1</td>\n",
       "    </tr>\n",
       "    <tr>\n",
       "      <th>1</th>\n",
       "      <td>2</td>\n",
       "      <td>Mystery</td>\n",
       "      <td>mystery_3</td>\n",
       "      <td>32</td>\n",
       "      <td>2</td>\n",
       "    </tr>\n",
       "    <tr>\n",
       "      <th>2</th>\n",
       "      <td>3</td>\n",
       "      <td>Historical Fiction</td>\n",
       "      <td>historical-fiction_4</td>\n",
       "      <td>26</td>\n",
       "      <td>2</td>\n",
       "    </tr>\n",
       "    <tr>\n",
       "      <th>3</th>\n",
       "      <td>4</td>\n",
       "      <td>Sequential Art</td>\n",
       "      <td>sequential-art_5</td>\n",
       "      <td>75</td>\n",
       "      <td>4</td>\n",
       "    </tr>\n",
       "    <tr>\n",
       "      <th>4</th>\n",
       "      <td>5</td>\n",
       "      <td>Classics</td>\n",
       "      <td>classics_6</td>\n",
       "      <td>19</td>\n",
       "      <td>1</td>\n",
       "    </tr>\n",
       "  </tbody>\n",
       "</table>\n",
       "</div>"
      ],
      "text/plain": [
       "   ID                Name                   URL  Size  Pages\n",
       "0   1              Travel              travel_2    11      1\n",
       "1   2             Mystery             mystery_3    32      2\n",
       "2   3  Historical Fiction  historical-fiction_4    26      2\n",
       "3   4      Sequential Art      sequential-art_5    75      4\n",
       "4   5            Classics            classics_6    19      1"
      ]
     },
     "execution_count": 35,
     "metadata": {},
     "output_type": "execute_result"
    }
   ],
   "source": [
    "Categories.head()"
   ]
  },
  {
   "cell_type": "code",
   "execution_count": 36,
   "id": "10a07d71-2588-4a67-8e00-5abfa2e65715",
   "metadata": {},
   "outputs": [
    {
     "data": {
      "text/html": [
       "<div>\n",
       "<style scoped>\n",
       "    .dataframe tbody tr th:only-of-type {\n",
       "        vertical-align: middle;\n",
       "    }\n",
       "\n",
       "    .dataframe tbody tr th {\n",
       "        vertical-align: top;\n",
       "    }\n",
       "\n",
       "    .dataframe thead th {\n",
       "        text-align: right;\n",
       "    }\n",
       "</style>\n",
       "<table border=\"1\" class=\"dataframe\">\n",
       "  <thead>\n",
       "    <tr style=\"text-align: right;\">\n",
       "      <th></th>\n",
       "      <th>ID</th>\n",
       "      <th>Title</th>\n",
       "      <th>Stars</th>\n",
       "      <th>Price</th>\n",
       "      <th>In_Stock</th>\n",
       "      <th>URL</th>\n",
       "      <th>Category</th>\n",
       "      <th>Stock_Size</th>\n",
       "      <th>Description</th>\n",
       "      <th>UPC</th>\n",
       "      <th>Category_ID</th>\n",
       "    </tr>\n",
       "  </thead>\n",
       "  <tbody>\n",
       "    <tr>\n",
       "      <th>0</th>\n",
       "      <td>1</td>\n",
       "      <td>It's Only the Himalayas</td>\n",
       "      <td>2</td>\n",
       "      <td>45.17</td>\n",
       "      <td>In stock</td>\n",
       "      <td>http://books.toscrape.com/catalogue/its-only-t...</td>\n",
       "      <td>Travel</td>\n",
       "      <td>19</td>\n",
       "      <td>\\n    âWherever you go, whatever you do, jus...</td>\n",
       "      <td>a22124811bfa8350</td>\n",
       "      <td>1</td>\n",
       "    </tr>\n",
       "    <tr>\n",
       "      <th>1</th>\n",
       "      <td>2</td>\n",
       "      <td>Full Moon over Noahâs Ark: An Odyssey to Mou...</td>\n",
       "      <td>4</td>\n",
       "      <td>49.43</td>\n",
       "      <td>In stock</td>\n",
       "      <td>http://books.toscrape.com/catalogue/full-moon-...</td>\n",
       "      <td>Travel</td>\n",
       "      <td>15</td>\n",
       "      <td>\\n    Acclaimed travel writer Rick Antonson se...</td>\n",
       "      <td>ce60436f52c5ee68</td>\n",
       "      <td>1</td>\n",
       "    </tr>\n",
       "    <tr>\n",
       "      <th>2</th>\n",
       "      <td>3</td>\n",
       "      <td>See America: A Celebration of Our National Par...</td>\n",
       "      <td>3</td>\n",
       "      <td>48.87</td>\n",
       "      <td>In stock</td>\n",
       "      <td>http://books.toscrape.com/catalogue/see-americ...</td>\n",
       "      <td>Travel</td>\n",
       "      <td>14</td>\n",
       "      <td>\\n    To coincide with the 2016 centennial ann...</td>\n",
       "      <td>f9705c362f070608</td>\n",
       "      <td>1</td>\n",
       "    </tr>\n",
       "    <tr>\n",
       "      <th>3</th>\n",
       "      <td>4</td>\n",
       "      <td>Vagabonding: An Uncommon Guide to the Art of L...</td>\n",
       "      <td>2</td>\n",
       "      <td>36.94</td>\n",
       "      <td>In stock</td>\n",
       "      <td>http://books.toscrape.com/catalogue/vagabondin...</td>\n",
       "      <td>Travel</td>\n",
       "      <td>8</td>\n",
       "      <td>\\n    With a new foreword by Tim Ferriss â¢Th...</td>\n",
       "      <td>1809259a5a5f1d8d</td>\n",
       "      <td>1</td>\n",
       "    </tr>\n",
       "    <tr>\n",
       "      <th>4</th>\n",
       "      <td>5</td>\n",
       "      <td>Under the Tuscan Sun</td>\n",
       "      <td>3</td>\n",
       "      <td>37.33</td>\n",
       "      <td>In stock</td>\n",
       "      <td>http://books.toscrape.com/catalogue/under-the-...</td>\n",
       "      <td>Travel</td>\n",
       "      <td>7</td>\n",
       "      <td>\\n    A CLASSIC FROM THE BESTSELLING AUTHOR OF...</td>\n",
       "      <td>a94350ee74deaa07</td>\n",
       "      <td>1</td>\n",
       "    </tr>\n",
       "  </tbody>\n",
       "</table>\n",
       "</div>"
      ],
      "text/plain": [
       "   ID                                              Title  Stars  Price  \\\n",
       "0   1                            It's Only the Himalayas      2  45.17   \n",
       "1   2  Full Moon over Noahâs Ark: An Odyssey to Mou...      4  49.43   \n",
       "2   3  See America: A Celebration of Our National Par...      3  48.87   \n",
       "3   4  Vagabonding: An Uncommon Guide to the Art of L...      2  36.94   \n",
       "4   5                               Under the Tuscan Sun      3  37.33   \n",
       "\n",
       "   In_Stock                                                URL Category  \\\n",
       "0  In stock  http://books.toscrape.com/catalogue/its-only-t...   Travel   \n",
       "1  In stock  http://books.toscrape.com/catalogue/full-moon-...   Travel   \n",
       "2  In stock  http://books.toscrape.com/catalogue/see-americ...   Travel   \n",
       "3  In stock  http://books.toscrape.com/catalogue/vagabondin...   Travel   \n",
       "4  In stock  http://books.toscrape.com/catalogue/under-the-...   Travel   \n",
       "\n",
       "   Stock_Size                                        Description  \\\n",
       "0          19  \\n    âWherever you go, whatever you do, jus...   \n",
       "1          15  \\n    Acclaimed travel writer Rick Antonson se...   \n",
       "2          14  \\n    To coincide with the 2016 centennial ann...   \n",
       "3           8  \\n    With a new foreword by Tim Ferriss â¢Th...   \n",
       "4           7  \\n    A CLASSIC FROM THE BESTSELLING AUTHOR OF...   \n",
       "\n",
       "                UPC  Category_ID  \n",
       "0  a22124811bfa8350            1  \n",
       "1  ce60436f52c5ee68            1  \n",
       "2  f9705c362f070608            1  \n",
       "3  1809259a5a5f1d8d            1  \n",
       "4  a94350ee74deaa07            1  "
      ]
     },
     "execution_count": 36,
     "metadata": {},
     "output_type": "execute_result"
    }
   ],
   "source": [
    "Catalog.head()"
   ]
  },
  {
   "cell_type": "code",
   "execution_count": 37,
   "id": "a6b07711-8b2c-4472-889a-3153819dd457",
   "metadata": {},
   "outputs": [
    {
     "name": "stdout",
     "output_type": "stream",
     "text": [
      "<class 'pandas.core.frame.DataFrame'>\n",
      "RangeIndex: 50 entries, 0 to 49\n",
      "Data columns (total 5 columns):\n",
      " #   Column  Non-Null Count  Dtype \n",
      "---  ------  --------------  ----- \n",
      " 0   ID      50 non-null     int64 \n",
      " 1   Name    50 non-null     object\n",
      " 2   URL     50 non-null     object\n",
      " 3   Size    50 non-null     int64 \n",
      " 4   Pages   50 non-null     int64 \n",
      "dtypes: int64(3), object(2)\n",
      "memory usage: 2.1+ KB\n"
     ]
    }
   ],
   "source": [
    "Categories.info()"
   ]
  },
  {
   "cell_type": "code",
   "execution_count": 38,
   "id": "4cef47a7-712c-4086-ae80-3ad1c4d5af41",
   "metadata": {},
   "outputs": [
    {
     "name": "stdout",
     "output_type": "stream",
     "text": [
      "<class 'pandas.core.frame.DataFrame'>\n",
      "RangeIndex: 1000 entries, 0 to 999\n",
      "Data columns (total 11 columns):\n",
      " #   Column       Non-Null Count  Dtype  \n",
      "---  ------       --------------  -----  \n",
      " 0   ID           1000 non-null   int64  \n",
      " 1   Title        1000 non-null   object \n",
      " 2   Stars        1000 non-null   int64  \n",
      " 3   Price        1000 non-null   float64\n",
      " 4   In_Stock     1000 non-null   object \n",
      " 5   URL          1000 non-null   object \n",
      " 6   Category     1000 non-null   object \n",
      " 7   Stock_Size   1000 non-null   int64  \n",
      " 8   Description  1000 non-null   object \n",
      " 9   UPC          1000 non-null   object \n",
      " 10  Category_ID  1000 non-null   int64  \n",
      "dtypes: float64(1), int64(4), object(6)\n",
      "memory usage: 86.1+ KB\n"
     ]
    }
   ],
   "source": [
    "Catalog.info()"
   ]
  },
  {
   "cell_type": "markdown",
   "id": "b7776076-a2bc-431a-aa66-c8201aecd172",
   "metadata": {},
   "source": [
    "We can now export the dataframes to csv files."
   ]
  },
  {
   "cell_type": "code",
   "execution_count": 39,
   "id": "39a92ee3-de5e-4945-b0f0-c92eaf53dcfa",
   "metadata": {},
   "outputs": [],
   "source": [
    "Categories.to_csv('Categories.csv', index=False)\n",
    "Catalog.to_csv('Catalog.csv', index=False)"
   ]
  }
 ],
 "metadata": {
  "kernelspec": {
   "display_name": "Python 3 (ipykernel)",
   "language": "python",
   "name": "python3"
  },
  "language_info": {
   "codemirror_mode": {
    "name": "ipython",
    "version": 3
   },
   "file_extension": ".py",
   "mimetype": "text/x-python",
   "name": "python",
   "nbconvert_exporter": "python",
   "pygments_lexer": "ipython3",
   "version": "3.12.9"
  }
 },
 "nbformat": 4,
 "nbformat_minor": 5
}
